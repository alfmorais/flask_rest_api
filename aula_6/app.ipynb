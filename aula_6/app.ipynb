{
  "nbformat": 4,
  "nbformat_minor": 0,
  "metadata": {
    "colab": {
      "name": "Untitled102.ipynb",
      "provenance": [],
      "collapsed_sections": [],
      "authorship_tag": "ABX9TyO5BEah+9qjm/vEG39nfwP/",
      "include_colab_link": true
    },
    "kernelspec": {
      "name": "python3",
      "display_name": "Python 3"
    },
    "language_info": {
      "name": "python"
    }
  },
  "cells": [
    {
      "cell_type": "markdown",
      "metadata": {
        "id": "view-in-github",
        "colab_type": "text"
      },
      "source": [
        "<a href=\"https://colab.research.google.com/github/alfmorais/flask_rest_api/blob/main/aula_6/app.ipynb\" target=\"_parent\"><img src=\"https://colab.research.google.com/assets/colab-badge.svg\" alt=\"Open In Colab\"/></a>"
      ]
    },
    {
      "cell_type": "markdown",
      "metadata": {
        "id": "h50e4Z0rLecU"
      },
      "source": [
        "# Manipulando banco de dados com SQLAlchemy\n",
        "\n",
        "SQLAlchemy \n",
        "- é um ORM para Python\n",
        "- Um ORM (object-relational mapping) em português Mapeamento objeto relacional, ajuda na abstração das tabelas de banco de dados na orientação à objeto.\n",
        "- Em ORMs tabela viram classes e o desenvolvedor não precisa ter conhecimento em SQL. \n",
        "- SQLAlchemy fornece um conjunto completo de padrões de persistência, projetados para acesso a banco de dados eficiente e de alto desempenho, adaptado em uma linguagem de dominío Pythonica simples.\n",
        "\n",
        "SQLite\n",
        "- É uma biblioteca de linguagem C que implementa um mecanismo de banco de dados pequeno, rápido e autônomo.\n",
        "- É o mecanismo de banco de dados mais usado no mundo.\n",
        "- Ele é incorporado em smartphones por exemplo.\n",
        "- Com o SQL lite é possivel montar uma instância de banco de dados sem precisar realizar uma instalação de um banco.\n",
        "- É muito prático para ambientes de desenvolvimento"
      ]
    },
    {
      "cell_type": "code",
      "metadata": {
        "colab": {
          "base_uri": "https://localhost:8080/"
        },
        "id": "g_tLFsGAJDuJ",
        "outputId": "6e8f1440-894c-471b-e46b-438608200976"
      },
      "source": [
        "!pip install flask"
      ],
      "execution_count": 1,
      "outputs": [
        {
          "output_type": "stream",
          "text": [
            "Requirement already satisfied: flask in /usr/local/lib/python3.7/dist-packages (1.1.4)\n",
            "Requirement already satisfied: itsdangerous<2.0,>=0.24 in /usr/local/lib/python3.7/dist-packages (from flask) (1.1.0)\n",
            "Requirement already satisfied: click<8.0,>=5.1 in /usr/local/lib/python3.7/dist-packages (from flask) (7.1.2)\n",
            "Requirement already satisfied: Werkzeug<2.0,>=0.15 in /usr/local/lib/python3.7/dist-packages (from flask) (1.0.1)\n",
            "Requirement already satisfied: Jinja2<3.0,>=2.10.1 in /usr/local/lib/python3.7/dist-packages (from flask) (2.11.3)\n",
            "Requirement already satisfied: MarkupSafe>=0.23 in /usr/local/lib/python3.7/dist-packages (from Jinja2<3.0,>=2.10.1->flask) (2.0.1)\n"
          ],
          "name": "stdout"
        }
      ]
    },
    {
      "cell_type": "code",
      "metadata": {
        "colab": {
          "base_uri": "https://localhost:8080/"
        },
        "id": "dd0xa_OFR3_4",
        "outputId": "b62ed8c7-c021-475d-f93b-57b9d83eaf14"
      },
      "source": [
        "!pip install sqlalchemy"
      ],
      "execution_count": 2,
      "outputs": [
        {
          "output_type": "stream",
          "text": [
            "Requirement already satisfied: sqlalchemy in /usr/local/lib/python3.7/dist-packages (1.4.18)\n",
            "Requirement already satisfied: importlib-metadata; python_version < \"3.8\" in /usr/local/lib/python3.7/dist-packages (from sqlalchemy) (4.5.0)\n",
            "Requirement already satisfied: greenlet!=0.4.17; python_version >= \"3\" in /usr/local/lib/python3.7/dist-packages (from sqlalchemy) (1.1.0)\n",
            "Requirement already satisfied: zipp>=0.5 in /usr/local/lib/python3.7/dist-packages (from importlib-metadata; python_version < \"3.8\"->sqlalchemy) (3.4.1)\n",
            "Requirement already satisfied: typing-extensions>=3.6.4; python_version < \"3.8\" in /usr/local/lib/python3.7/dist-packages (from importlib-metadata; python_version < \"3.8\"->sqlalchemy) (3.7.4.3)\n"
          ],
          "name": "stdout"
        }
      ]
    },
    {
      "cell_type": "code",
      "metadata": {
        "id": "z0DObuL_Lpbc"
      },
      "source": [
        "from sqlalchemy import create_engine, Column, Integer, String, ForeignKey\n",
        "from sqlalchemy.orm import scoped_session, sessionmaker, relationship\n",
        "from sqlalchemy.ext.declarative import declarative_base"
      ],
      "execution_count": 3,
      "outputs": []
    },
    {
      "cell_type": "code",
      "metadata": {
        "colab": {
          "base_uri": "https://localhost:8080/"
        },
        "id": "8Er5S74gSMWD",
        "outputId": "ab98e12a-ec3a-4234-cf1d-d6a4edaf66b2"
      },
      "source": [
        "# definindo o banco de dados\n",
        "engine = create_engine(\"sqlite:///atividades.db\", convert_unicode=True)\n",
        "db_session = scoped_session(sessionmaker(autocommit=False,\n",
        "                                         bind=engine))"
      ],
      "execution_count": 4,
      "outputs": [
        {
          "output_type": "stream",
          "text": [
            "/usr/local/lib/python3.7/dist-packages/ipykernel_launcher.py:2: SADeprecationWarning: The create_engine.convert_unicode parameter and corresponding dialect-level parameters are deprecated, and will be removed in a future release.  Modern DBAPIs support Python Unicode natively and this parameter is unnecessary.\n",
            "  \n"
          ],
          "name": "stderr"
        }
      ]
    },
    {
      "cell_type": "code",
      "metadata": {
        "id": "5ZodgdlMTsMA"
      },
      "source": [
        "Base = declarative_base()\n",
        "Base.query = db_session.query_property()"
      ],
      "execution_count": 5,
      "outputs": []
    },
    {
      "cell_type": "code",
      "metadata": {
        "id": "lXrpymsV6U2P"
      },
      "source": [
        "class Pessoas(Base):\n",
        "  __tablename__=\"pessoas\"\n",
        "  id = Column(Integer, primary_key=True)\n",
        "  nome = Column(String(40), index=True)\n",
        "  idade = Column(Integer)\n",
        "\n",
        "  def __repr__(self):\n",
        "    return \"<Pessoa {}>\".format(self.nome)\n",
        "\n",
        "  def save(self):\n",
        "    db_session.add(self)\n",
        "    db_session.commit()\n"
      ],
      "execution_count": 6,
      "outputs": []
    },
    {
      "cell_type": "code",
      "metadata": {
        "id": "1QqiwA_67bp5"
      },
      "source": [
        "class Atividades(Base):\n",
        "  __tablename__=\"atividades\"\n",
        "  id = Column(Integer, primary_key=True)\n",
        "  nome = Column(String(80))\n",
        "  pessoa_id = Column(Integer, ForeignKey(\"pessoas.id\"))\n",
        "  pessoa = relationship(\"Pessoas\")"
      ],
      "execution_count": 7,
      "outputs": []
    },
    {
      "cell_type": "code",
      "metadata": {
        "id": "bQHKTdDK8KU4"
      },
      "source": [
        "def init_db():\n",
        "  Base.metadata.create_all(bind=engine)"
      ],
      "execution_count": 8,
      "outputs": []
    },
    {
      "cell_type": "code",
      "metadata": {
        "id": "vNvtB0ID8WJV"
      },
      "source": [
        "if __name__==\"__main__\":\n",
        "  init_db()"
      ],
      "execution_count": 9,
      "outputs": []
    },
    {
      "cell_type": "markdown",
      "metadata": {
        "id": "9By7g-Xw9LHt"
      },
      "source": [
        "# Arquivo de consulta"
      ]
    },
    {
      "cell_type": "code",
      "metadata": {
        "id": "_xXKo3rt9Rvp"
      },
      "source": [
        "# from models import Pessoas, db_session\n",
        "\n",
        "def insere_pessoas():\n",
        "  pessoa = Pessoas(nome=\"Alfredo\", idade=29)\n",
        "  print(pessoa)\n",
        "  db_session.add(pessoa)\n",
        "  db_session.commit()\n",
        "\n",
        "def consulta_pessoas():\n",
        "  pessoa = Pessoas.query.all()\n",
        "  print(pessoa)\n",
        "  pessoa = Pessoas.query.filter_by(nome=\"Alfredo\")\n",
        "  print(pessoa)\n",
        "  # acessando a idade da pessoa\n",
        "  pessoa = Pessoas.query.filter_by(nome=\"Alfredo\").first()\n",
        "  print(pessoa.idade)\n",
        "\n",
        "def altera_pessoas():\n",
        "  pessoa = Pessoas.query\n",
        "\n",
        "\n",
        "if __name__==\"__main__\":\n",
        "  insere_pessoas()\n",
        "  consulta_pessoas()"
      ],
      "execution_count": null,
      "outputs": []
    }
  ]
}